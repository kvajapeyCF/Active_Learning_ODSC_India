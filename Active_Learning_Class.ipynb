{
 "cells": [
  {
   "cell_type": "markdown",
   "metadata": {},
   "source": [
    "# Active Learning Workshop: ODSC Bengaluru - Part I\n",
    "In this course we will run through a series of exercises that will illustrate how to use different variations of active learning. The goal in active learning it to train models that will use less data in a more intelligent way thereby resulting in increased accuracy.\n",
    "\n",
    "To get started make sure to download and unzip the [data](https://s3-us-west-1.amazonaws.com/figure-eight-dataset/active_learning_odsc_india/Active_Learning_Workshop_data.zip)"
   ]
  },
  {
   "cell_type": "code",
   "execution_count": 4,
   "metadata": {},
   "outputs": [],
   "source": [
    "import requests \n",
    "import pandas as pd\n",
    "import os \n",
    "from os import listdir\n",
    "from watson_developer_cloud import VisualRecognitionV3\n",
    "import json\n",
    "import csv\n",
    "import random\n",
    "import time\n",
    "import zipfile\n",
    "import matplotlib.pyplot as plt\n",
    "\n",
    "\"\"\"\n",
    "Variables used for your individual exercise. Make sure to input the correct API KEY,\n",
    "CLASSIFIER IDS, and DIRECTORIES. These will refer to your project and personal machine\n",
    "\"\"\"\n",
    "WATSON_API_KEY = '' # INPUT WATSON API KEY\n",
    "WATSON_CLASSIFIER_ID_1 = \"\" # INPUT CLASSIFIER 1 ID\n",
    "WATSON_CLASSIFIER_ID_2 = \"\" # INPUT CLASSIFIER 2 ID\n",
    "WATSON_CLASSIFIER_ID_3 = \"\" # INPUT CLASSIFIER 3 ID\n",
    "IMAGE_DIRECTORY = '../data/images/' # INPUT PATH TO IMAGE FOLDER\n",
    "TEST_IMAGES_DIRECTORY = '../data/test_images/' # INPUT PATH TO TEST_IMAGES_DIRECTORY\n",
    "\n",
    "CLASSES = ['low_quality', 'medium_quality', 'high_quality'] \n",
    "\n",
    "visual_recognition = VisualRecognitionV3(\n",
    "    version='2018-03-19',\n",
    "    iam_api_key=WATSON_API_KEY \n",
    ")\n"
   ]
  },
  {
   "cell_type": "markdown",
   "metadata": {},
   "source": [
    "## Initialize Dataframes\n",
    "The code below will initialize the dataframes that will store the experimental data used through the course. Make sure to only initialize this frame ONCE.\n",
    "\n",
    "Each dataframe will store the checkpoints made while building the classifier. With these dataframes we will be able to plot the progress of our classifier and see how the accuracy changes over time.\n",
    "\n",
    "`\n",
    "Code here\n",
    "`"
   ]
  },
  {
   "cell_type": "code",
   "execution_count": 5,
   "metadata": {},
   "outputs": [],
   "source": [
    "classifier_stats = {\n",
    "    'c0' : [],\n",
    "    'c1' : [],\n",
    "    'c2' : [],\n",
    "    'c3' : [],\n",
    "}"
   ]
  },
  {
   "cell_type": "code",
   "execution_count": 10,
   "metadata": {},
   "outputs": [],
   "source": [
    "\"\"\"\n",
    "Helper functions for Active Learning Workshop\n",
    "\"\"\"\n",
    "\n",
    "\"\"\"\n",
    "function: choose_images(n)\n",
    "n (int): number of images to get\n",
    "description: function to select random images from the set of \"unlabeled\" images\n",
    "\"\"\"\n",
    "def choose_images(n):\n",
    "    images = os.listdir(IMAGE_DIRECTORY)\n",
    "    return random.sample(images, n)\n",
    "\n",
    "\"\"\"\n",
    "function: run_inferences(images)\n",
    "images (list): list of names of images that live in the IMAGE_DIRECTORY\n",
    "directory (constant): TEST_IMAGES_DIRECTORY or IMAGE_DIRECTORY\n",
    "watson_classifier (constant): WATSON_CLASSIFIER_ID_<number>\n",
    "description: function to run inferences through Watson on the provided images\n",
    "\"\"\"\n",
    "def run_inferences(images, directory, watson_classifier):\n",
    "    results = {}\n",
    "    print(\"Running inferences for classifier \" + watson_classifier + \"...\")\n",
    "    i = 0\n",
    "    for image in images:\n",
    "        if i > 10:\n",
    "            break\n",
    "        img = open(directory + image, 'rb')\n",
    "        #print('Running inference for ' + image)\n",
    "        inference = visual_recognition.classify(\n",
    "            images_file=img,\n",
    "            classifier_ids=[watson_classifier],\n",
    "            threshold=0.0)\n",
    "        predicted_class = inference['images'][0]['classifiers'][0]['classes'][0]['class']\n",
    "        confidence = inference['images'][0]['classifiers'][0]['classes'][0]['score']\n",
    "        results[image] = {'predicted_class':predicted_class, 'confidence':confidence}\n",
    "        i += 1\n",
    "    return results\n",
    "\n",
    "\"\"\"\n",
    "function: label_images_with_ground_truth(images)\n",
    "images (list): list of names of images that live in the IMAGE_DIRECTORY\n",
    "description: use the ground truth label to add images into the correct category\n",
    "\n",
    "return: lists with low, medium, and high quality image sets\n",
    "\n",
    "**NOTE: Ground truth labels from a crowd can be wrong and will not always provide the optimal data\n",
    "\"\"\"\n",
    "def label_images_with_ground_truth(images):\n",
    "    lq = []\n",
    "    mq = []\n",
    "    hq = []\n",
    "    for image in images:\n",
    "        gt = int(image.split('_')[0])\n",
    "        if gt < 3:\n",
    "            lq.append(image)\n",
    "        elif gt == 3:\n",
    "            mq.append(image)\n",
    "        else:\n",
    "            hq.append(image)\n",
    "    \n",
    "    return {'low_quality':lq, 'medium_quality':mq, 'high_quality':hq}\n",
    "\n",
    "\"\"\"\n",
    "function: compare_with_ground_truth\n",
    "image: name of image (this has the ground truth)\n",
    "prediction: predicted class label\n",
    "\n",
    "return: True if matching, else false\n",
    "\"\"\"\n",
    "def compare_with_ground_truth(image, prediction):\n",
    "    gt = int(image.split('_')[0])\n",
    "    label = ''\n",
    "    if gt < 3:\n",
    "        label = 'low_quality'\n",
    "    elif gt == 3:\n",
    "        label = 'medium_quality'\n",
    "    else:\n",
    "        label = 'high_quality'\n",
    "    \n",
    "    if label == prediction:\n",
    "        return True\n",
    "    return False\n",
    "\n",
    "\"\"\"\n",
    "function: create_zip(images, label)\n",
    "images (list): list of names of images that live in the IMAGE_DIRECTORY\n",
    "label (str): name of zip file\n",
    "description: function to create a zip file that will be used to upload to Watson classifier\n",
    "\"\"\"\n",
    "def create_zip(images, label):\n",
    "    zip_name = label + '_' + str(int(time.time())) + '.zip'\n",
    "    z = zipfile.ZipFile(zip_name, 'w')\n",
    "    for image in images:\n",
    "        img = open(IMAGE_DIRECTORY + image, 'rb')\n",
    "        z.write(IMAGE_DIRECTORY + image)\n",
    "    return zip_name\n",
    "\n",
    "\"\"\"\n",
    "function: test_accuracy\n",
    "classifier_name (string): c0, c1, c2, c3\n",
    "watson_classifier (constant): WATSON_CLASSIFIER_ID_<number>\n",
    "description: run a test of 100 images and compare with ground truth\n",
    "        to compute the accuracy of the classifier\n",
    "\"\"\"\n",
    "def test_classifier(classifier_name, watson_classifier):\n",
    "    images = os.listdir(TEST_IMAGES_DIRECTORY)\n",
    "    results = run_inferences(images, TEST_IMAGES_DIRECTORY, watson_classifier)\n",
    "    comparisons = []\n",
    "    for image in results:\n",
    "        prediction = results[image]['predicted_class']\n",
    "        check = compare_with_ground_truth(image, prediction)\n",
    "        if check:\n",
    "            comparisons.append(1)\n",
    "        else:\n",
    "            comparisons.append(0)\n",
    "    correct = sum(comparisons)\n",
    "    accuracy = correct/len(comparisons)\n",
    "    print('Accuracy: ' + str(accuracy))\n",
    "    classifier_stats[classifier_name].append(accuracy)\n",
    "\n",
    "\"\"\"\n",
    "function plot_confience(inferences)\n",
    "inferences (dictionary): the output of run_inferences\n",
    "\"\"\"\n",
    "def plot_confidence(inferences):\n",
    "    pass\n"
   ]
  },
  {
   "cell_type": "markdown",
   "metadata": {},
   "source": [
    "# Exercise 0: Supervised Learning\n",
    "In the exercise we will use basic supervised learning to update the classifier. This works by selecting a random set of data, labeling that data, and using that to train each class of the classifier.\n",
    "\n",
    "First, we will test the new classifier that we created. Once we have a baseline accuracy we will use the `supervised_learning()` function to get new batches of data for each class in the form of .zip files which we will use to update each class of the Watson classifier.\n",
    "\n",
    "Use the function below to automatically select random data, get the labels, and create the zip files required to add to each class of the Watson classifier."
   ]
  },
  {
   "cell_type": "code",
   "execution_count": 11,
   "metadata": {},
   "outputs": [
    {
     "name": "stdout",
     "output_type": "stream",
     "text": [
      "Running inferences for classifier ImageQualityDetector_1749485570...\n",
      "Accuracy: 0.7272727272727273\n",
      "Accuracy: 1.0\n"
     ]
    },
    {
     "data": {
      "image/png": "[encoded data removed]",
      "text/plain": [
       "<Figure size 432x288 with 1 Axes>"
      ]
     },
     "metadata": {},
     "output_type": "display_data"
    }
   ],
   "source": [
    "\"\"\"\n",
    "Use this cell to run the preliminary test and calculate the baseline accuracy of the newly created classifer\n",
    "\"\"\"\n",
    "test_classifier('c0', WATSON_CLASSIFIER_ID_1)\n",
    "plt.plot(classifier_stats['c0'], 'ro')\n",
    "plt.show()"
   ]
  },
  {
   "cell_type": "markdown",
   "metadata": {},
   "source": [
    "Next you will run a series of supervised learning steps. Here you will run the following code to produce class zips and add these to your first classifier. As you complete each round of training, you should run the test code to see how the model accuracy improves over time."
   ]
  },
  {
   "cell_type": "code",
   "execution_count": 165,
   "metadata": {},
   "outputs": [],
   "source": [
    "\"\"\"\n",
    "description: function for supervised learning.\n",
    "Select random images and label all images\n",
    "\"\"\"\n",
    "def supervised_learning():\n",
    "    images = choose_images(20)\n",
    "    labels = label_images_with_ground_truth(images)\n",
    "    lqz = create_zip(labels['low_quality'], 'low_quality')\n",
    "    mqz = create_zip(labels['medium_quality'], 'medium_quality')\n",
    "    hqz = create_zip(labels['high_quality'], 'high_quality')\n",
    "    print('low quality: ' + lqz)\n",
    "    print('medium quality: ' + mqz)\n",
    "    print('high quality: ' + hqz)\n",
    "\n"
   ]
  },
  {
   "cell_type": "markdown",
   "metadata": {},
   "source": [
    "#### Task: Run iterations of supervised learning and plot the accuracy of the model as more data is added"
   ]
  },
  {
   "cell_type": "code",
   "execution_count": 166,
   "metadata": {},
   "outputs": [],
   "source": [
    "# TODO: Write the code to run additional tests after each round of training\n",
    "# HINT: This is the same code used above to complete the first round of training"
   ]
  },
  {
   "cell_type": "markdown",
   "metadata": {},
   "source": [
    "# Exercise 1: Confidence Sampling\n",
    "In this exercise you will use confidence-based sampling. The goal is to create a query method that will rapidly increase the accuracy of your model with as little data as possible.\n",
    "\n",
    "The idea of confidence sampling is that you are making inferences on your initial classifier. Based on the confidence of these inferences you want to intelligently select which examples you want to add directly to your model and which samples you want to explicitly label.\n",
    "\n",
    "#### Task: Create a function that uses confidence sampling to select which examples should be manually labeled. Once these have been selected run them through the label function and create batches to be added to the classifier.\n",
    "\n",
    "#### NOTE: Make sure to run a preliminary test to get a baseline accuracy of your model"
   ]
  },
  {
   "cell_type": "code",
   "execution_count": null,
   "metadata": {},
   "outputs": [],
   "source": [
    "\"\"\"\n",
    "Run preliminary test of classifier to get baseline accuracy\n",
    "\"\"\"\n",
    "test_classifier('c1', WATSON_CLASSIFIER_ID_2)\n",
    "plt.plot(classifier_stats['c1'], 'ro')\n",
    "plt.show()"
   ]
  },
  {
   "cell_type": "code",
   "execution_count": 168,
   "metadata": {},
   "outputs": [],
   "source": [
    "\"\"\"\n",
    "function: basic_confidence_sampling\n",
    "threshold (float): float between 0 and 1 for threshold to label images\n",
    "\"\"\"\n",
    "def confidence_sampling():\n",
    "    images = choose_images(20) # You can select the number of images you want to test\n",
    "    inferences = run_inferences(images, IMAGE_DIRECTORY)\n",
    "    # EXAMPLE CODE:\n",
    "    \"\"\"\n",
    "    for image in inferences:\n",
    "        to_label = []\n",
    "        confidence = inferences[image]['confidence']\n",
    "        if confidence < 0.8:\n",
    "            to_label.append(image)\n",
    "    labels = label_images_with_ground_truth(to_label)\n",
    "    \"\"\"\n",
    "    # TODO: fill in your confidence query method here.\n",
    "    # Based on the confidence select which samples you want to label\n",
    "    # and then create the required zip files for those images and add them\n",
    "    # to your model\n",
    "    \n",
    "    lqz = create_zip(labels['low_quality'], 'low_quality')\n",
    "    mqz = create_zip(labels['medium_quality'], 'medium_quality')\n",
    "    hqz = create_zip(labels['high_quality'], 'high_quality')\n",
    "\n"
   ]
  },
  {
   "cell_type": "code",
   "execution_count": null,
   "metadata": {},
   "outputs": [],
   "source": [
    "\"\"\"\n",
    "Use this code to test your classifier after each round of confidence sampling and plot your results\n",
    "\"\"\"\n",
    "test_classifier('c1', WATSON_CLASSIFIER_ID_2)\n",
    "plt.plot(classifier_stats['c1'], 'ro')\n",
    "plt.show()"
   ]
  },
  {
   "cell_type": "markdown",
   "metadata": {},
   "source": [
    "# Exercise 2: Margin Sampling\n",
    "In this exercise we will use margin sampling to train a third classifier. In margin sampling we want to look at the various predictions provided by the classifier and determine what threshold should be set in order to label the least number of images while getting the most performance gains out of the classifier.\n",
    "\n",
    "An example of margin sampling could be to manually label any item where the top two predictions are within 20% confidence of one another.\n",
    "\n",
    "For example:\n",
    "\n",
    "`\n",
    "Image 1: {'high_quality': 0.77, 'medium_quality': 0.73, 'low_quality': 0.01}\n",
    "`\n",
    "\n",
    "Here we can see that \"high_quality\" and \"medium_quality\" are very close and we should get an explicit label to make it apparent which one we should use.\n",
    "\n",
    "#### NOTE: Make sure to run a preliminary test to get a baseline accuracy of your model"
   ]
  },
  {
   "cell_type": "code",
   "execution_count": null,
   "metadata": {},
   "outputs": [],
   "source": [
    "\"\"\"\n",
    "Run preliminary test of classifier to get baseline accuracy\n",
    "\"\"\"\n",
    "test_classifier('c2', WATSON_CLASSIFIER_ID_3)\n",
    "plt.plot(classifier_stats['c2'], 'ro')\n",
    "plt.show()"
   ]
  },
  {
   "cell_type": "code",
   "execution_count": 167,
   "metadata": {},
   "outputs": [],
   "source": [
    "def margin_sampling(threshold):\n",
    "    images = choose_images(20) # You can select the number of images you want to test\n",
    "    inferences = run_inferences(images, IMAGE_DIRECTORY)\n",
    "    for image in inferences:\n",
    "        # TODO: fill in your margin sampling method here\n",
    "        # Based on the margin of confidence in the resulting predictions\n",
    "        # you should decide which examples you want to manually label\n",
    "        # and then create the required zips with those images"
   ]
  },
  {
   "cell_type": "code",
   "execution_count": null,
   "metadata": {},
   "outputs": [],
   "source": [
    "\"\"\"\n",
    "Write your code here to test your classifier after each round of training\n",
    "This should be WATSON_CLASSIFIER_ID_3 and classifier_stats['c2']\n",
    "HINT: This is similar to the test and plot code bits used in previous exercises\n",
    "\"\"\""
   ]
  },
  {
   "cell_type": "markdown",
   "metadata": {},
   "source": [
    "# Exercise 3: Query by Committee\n",
    "In this exercise we want to create a query by committee strategy. You have a couple options.\n",
    "\n",
    "1. Use the three classifiers you trained above as your \"committee\" and update all classifiers\n",
    "2. Delete the three classifiers and create three new ones to be used for the query by committee.\n",
    "\n",
    "Three different intializer datasets are provided so feel free to use those to create your initial classifiers.\n",
    "\n",
    "#### NOTE: Make sure to run a preliminary test to get a baseline accuracy of your model"
   ]
  },
  {
   "cell_type": "code",
   "execution_count": null,
   "metadata": {},
   "outputs": [],
   "source": [
    "def query_by_committee():\n",
    "    # TODO: Create a query by committee function.\n",
    "    # Like before the goal should be to create three zip files in this\n",
    "    # function that will be the training data to be added to the classifier\n",
    "    # Also after each round of training we want to run our test to see how\n",
    "    # the accuracy is improving."
   ]
  },
  {
   "cell_type": "code",
   "execution_count": null,
   "metadata": {},
   "outputs": [],
   "source": [
    "\"\"\"\n",
    "Write your code here to test your classifier after each round of training\n",
    "This should be WATSON_CLASSIFIER_ID_3 and classifier_stats['c3']\n",
    "HINT: This is similar to the test and plot code bits used in previous exercises\n",
    "\"\"\""
   ]
  },
  {
   "cell_type": "markdown",
   "metadata": {},
   "source": [
    "# Exercise 4: Build your own\n",
    "In this exercise you will build your own query function using any of the methods used previous. This is where you should get creative and think about the best query strategy to train a model with the least amount of data.\n",
    "\n",
    "#### NOTE: Make sure to run a preliminary test to get a baseline accuracy of your model"
   ]
  },
  {
   "cell_type": "code",
   "execution_count": 169,
   "metadata": {},
   "outputs": [],
   "source": [
    "def my_strategy():\n",
    "    pass\n",
    "    # TODO: Fill in your custom query function here"
   ]
  },
  {
   "cell_type": "code",
   "execution_count": 170,
   "metadata": {},
   "outputs": [
    {
     "data": {
      "text/plain": [
       "'\\nWrite your code here to test your classifier after each round of training\\nHINT: This is similar to the test and plot code bits used in previous exercises\\n'"
      ]
     },
     "execution_count": 170,
     "metadata": {},
     "output_type": "execute_result"
    }
   ],
   "source": [
    "\"\"\"\n",
    "Write your code here to test your classifier after each round of training\n",
    "HINT: This is similar to the test and plot code bits used in previous exercises\n",
    "\"\"\""
   ]
  },
  {
   "cell_type": "code",
   "execution_count": null,
   "metadata": {},
   "outputs": [],
   "source": []
  }
 ],
 "metadata": {
  "kernelspec": {
   "display_name": "active_learning",
   "language": "python",
   "name": "active_learning"
  },
  "language_info": {
   "codemirror_mode": {
    "name": "ipython",
    "version": 3
   },
   "file_extension": ".py",
   "mimetype": "text/x-python",
   "name": "python",
   "nbconvert_exporter": "python",
   "pygments_lexer": "ipython3",
   "version": "3.6.4"
  }
 },
 "nbformat": 4,
 "nbformat_minor": 2
}
